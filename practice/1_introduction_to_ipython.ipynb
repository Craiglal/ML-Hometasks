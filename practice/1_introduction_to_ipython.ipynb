{
 "cells": [
  {
   "cell_type": "code",
   "execution_count": null,
   "metadata": {
    "ExecuteTime": {
     "end_time": "2019-11-02T08:41:39.399717Z",
     "start_time": "2019-11-02T08:41:39.389406Z"
    }
   },
   "outputs": [],
   "source": [
    "'hello, world!'"
   ]
  },
  {
   "cell_type": "code",
   "execution_count": null,
   "metadata": {
    "ExecuteTime": {
     "end_time": "2019-11-02T08:41:39.405952Z",
     "start_time": "2019-11-02T08:41:39.402039Z"
    }
   },
   "outputs": [],
   "source": [
    "t = 'hello, world!'"
   ]
  },
  {
   "cell_type": "code",
   "execution_count": null,
   "metadata": {
    "ExecuteTime": {
     "end_time": "2019-11-02T08:41:39.413332Z",
     "start_time": "2019-11-02T08:41:39.407630Z"
    }
   },
   "outputs": [],
   "source": [
    "t"
   ]
  },
  {
   "cell_type": "code",
   "execution_count": null,
   "metadata": {
    "ExecuteTime": {
     "end_time": "2019-11-02T08:43:30.010149Z",
     "start_time": "2019-11-02T08:43:30.004914Z"
    }
   },
   "outputs": [],
   "source": [
    "print(t)"
   ]
  },
  {
   "cell_type": "code",
   "execution_count": null,
   "metadata": {
    "ExecuteTime": {
     "end_time": "2019-11-02T08:44:03.791587Z",
     "start_time": "2019-11-02T08:44:03.784981Z"
    }
   },
   "outputs": [],
   "source": [
    "print t"
   ]
  },
  {
   "cell_type": "code",
   "execution_count": null,
   "metadata": {
    "ExecuteTime": {
     "end_time": "2019-11-02T08:43:57.500476Z",
     "start_time": "2019-11-02T08:43:57.482073Z"
    }
   },
   "outputs": [],
   "source": [
    "%%python2\n",
    "t = 'hello world!'\n",
    "print t"
   ]
  },
  {
   "cell_type": "code",
   "execution_count": null,
   "metadata": {
    "ExecuteTime": {
     "end_time": "2019-11-02T08:41:39.422687Z",
     "start_time": "2019-11-02T08:41:39.394Z"
    }
   },
   "outputs": [],
   "source": [
    "6**4"
   ]
  },
  {
   "cell_type": "code",
   "execution_count": null,
   "metadata": {
    "ExecuteTime": {
     "end_time": "2019-11-02T08:41:39.423783Z",
     "start_time": "2019-11-02T08:41:39.396Z"
    }
   },
   "outputs": [],
   "source": [
    "100/12"
   ]
  },
  {
   "cell_type": "code",
   "execution_count": null,
   "metadata": {
    "ExecuteTime": {
     "end_time": "2019-11-02T08:41:39.424886Z",
     "start_time": "2019-11-02T08:41:39.398Z"
    }
   },
   "outputs": [],
   "source": [
    "100./12"
   ]
  },
  {
   "cell_type": "code",
   "execution_count": null,
   "metadata": {
    "ExecuteTime": {
     "end_time": "2019-11-02T08:41:39.425934Z",
     "start_time": "2019-11-02T08:41:39.400Z"
    }
   },
   "outputs": [],
   "source": [
    "round(100./12, 3)"
   ]
  },
  {
   "cell_type": "code",
   "execution_count": null,
   "metadata": {
    "ExecuteTime": {
     "end_time": "2019-11-02T08:41:39.427130Z",
     "start_time": "2019-11-02T08:41:39.402Z"
    }
   },
   "outputs": [],
   "source": [
    "from math import factorial"
   ]
  },
  {
   "cell_type": "code",
   "execution_count": null,
   "metadata": {
    "ExecuteTime": {
     "end_time": "2019-11-02T08:41:39.428112Z",
     "start_time": "2019-11-02T08:41:39.404Z"
    }
   },
   "outputs": [],
   "source": [
    "factorial(3)"
   ]
  },
  {
   "cell_type": "code",
   "execution_count": null,
   "metadata": {
    "ExecuteTime": {
     "end_time": "2019-11-02T08:41:39.429276Z",
     "start_time": "2019-11-02T08:41:39.406Z"
    }
   },
   "outputs": [],
   "source": [
    "factorial(10)*0.5"
   ]
  },
  {
   "cell_type": "markdown",
   "metadata": {},
   "source": [
    "text"
   ]
  },
  {
   "cell_type": "markdown",
   "metadata": {},
   "source": [
    "# Header"
   ]
  },
  {
   "cell_type": "markdown",
   "metadata": {},
   "source": [
    "для редактирования формулы ниже использует синтаксис tex"
   ]
  },
  {
   "cell_type": "markdown",
   "metadata": {},
   "source": [
    "$$ c = \\sqrt{a^2 + b^2}$$"
   ]
  },
  {
   "cell_type": "code",
   "execution_count": null,
   "metadata": {
    "ExecuteTime": {
     "end_time": "2019-11-02T08:41:39.430464Z",
     "start_time": "2019-11-02T08:41:39.409Z"
    }
   },
   "outputs": [],
   "source": [
    "! echo 'hello, world!'"
   ]
  },
  {
   "cell_type": "code",
   "execution_count": null,
   "metadata": {
    "ExecuteTime": {
     "end_time": "2019-11-02T08:41:39.431639Z",
     "start_time": "2019-11-02T08:41:39.412Z"
    }
   },
   "outputs": [],
   "source": [
    "!echo $t"
   ]
  },
  {
   "cell_type": "code",
   "execution_count": null,
   "metadata": {
    "ExecuteTime": {
     "end_time": "2019-11-02T08:41:39.432673Z",
     "start_time": "2019-11-02T08:41:39.415Z"
    }
   },
   "outputs": [],
   "source": [
    "%%bash\n",
    "mkdir test_directory\n",
    "cd test_directory/\n",
    "ls  -a"
   ]
  },
  {
   "cell_type": "code",
   "execution_count": null,
   "metadata": {
    "ExecuteTime": {
     "end_time": "2019-11-02T08:41:39.433697Z",
     "start_time": "2019-11-02T08:41:39.417Z"
    }
   },
   "outputs": [],
   "source": [
    "#удаление директории, если она не нужна\n",
    "! rm -r test_directory"
   ]
  },
  {
   "cell_type": "markdown",
   "metadata": {},
   "source": [
    "Ниже аналоги команд для пользователей Windows:"
   ]
  },
  {
   "cell_type": "code",
   "execution_count": null,
   "metadata": {
    "ExecuteTime": {
     "end_time": "2019-11-02T08:41:39.538424Z",
     "start_time": "2019-11-02T08:41:39.535094Z"
    }
   },
   "outputs": [],
   "source": [
    "%%cmd\n",
    "mkdir test_directory\n",
    "cd test_directory\n",
    "dir"
   ]
  },
  {
   "cell_type": "markdown",
   "metadata": {},
   "source": [
    "удаление директории, если она не нужна (windows)"
   ]
  },
  {
   "cell_type": "code",
   "execution_count": null,
   "metadata": {
    "ExecuteTime": {
     "end_time": "2019-11-02T08:41:39.545821Z",
     "start_time": "2019-11-02T08:41:39.540051Z"
    }
   },
   "outputs": [],
   "source": [
    "%%cmd \n",
    "rmdir test_directiory"
   ]
  },
  {
   "cell_type": "markdown",
   "metadata": {},
   "source": [
    "Какие magics есть в Jupytre Notebook"
   ]
  },
  {
   "cell_type": "code",
   "execution_count": null,
   "metadata": {
    "ExecuteTime": {
     "end_time": "2019-11-02T08:41:39.553900Z",
     "start_time": "2019-11-02T08:41:39.547176Z"
    }
   },
   "outputs": [],
   "source": [
    "%lsmagic"
   ]
  },
  {
   "cell_type": "code",
   "execution_count": null,
   "metadata": {
    "ExecuteTime": {
     "end_time": "2019-11-02T08:41:39.808576Z",
     "start_time": "2019-11-02T08:41:39.555383Z"
    }
   },
   "outputs": [],
   "source": [
    "from matplotlib import pyplot as plt"
   ]
  },
  {
   "cell_type": "code",
   "execution_count": null,
   "metadata": {
    "ExecuteTime": {
     "end_time": "2019-11-02T08:41:39.812186Z",
     "start_time": "2019-11-02T08:41:39.810035Z"
    }
   },
   "outputs": [],
   "source": [
    "y = range(11)"
   ]
  },
  {
   "cell_type": "code",
   "execution_count": null,
   "metadata": {
    "ExecuteTime": {
     "end_time": "2019-11-02T08:41:39.820129Z",
     "start_time": "2019-11-02T08:41:39.813485Z"
    }
   },
   "outputs": [],
   "source": [
    "y"
   ]
  },
  {
   "cell_type": "code",
   "execution_count": null,
   "metadata": {
    "ExecuteTime": {
     "end_time": "2019-11-02T08:41:39.827361Z",
     "start_time": "2019-11-02T08:41:39.822522Z"
    }
   },
   "outputs": [],
   "source": [
    "list(y)"
   ]
  },
  {
   "cell_type": "code",
   "execution_count": null,
   "metadata": {
    "ExecuteTime": {
     "end_time": "2019-11-02T08:41:39.976335Z",
     "start_time": "2019-11-02T08:41:39.828547Z"
    }
   },
   "outputs": [],
   "source": [
    "plt.plot(y)"
   ]
  },
  {
   "cell_type": "code",
   "execution_count": null,
   "metadata": {
    "ExecuteTime": {
     "end_time": "2019-11-02T08:41:39.982585Z",
     "start_time": "2019-11-02T08:41:39.978448Z"
    }
   },
   "outputs": [],
   "source": [
    "y = [el**2 for el in y]\n",
    "y"
   ]
  },
  {
   "cell_type": "code",
   "execution_count": null,
   "metadata": {
    "ExecuteTime": {
     "end_time": "2019-11-02T08:41:40.111833Z",
     "start_time": "2019-11-02T08:41:39.983897Z"
    }
   },
   "outputs": [],
   "source": [
    "plt.plot(y)"
   ]
  },
  {
   "cell_type": "code",
   "execution_count": null,
   "metadata": {
    "ExecuteTime": {
     "end_time": "2019-11-02T08:41:58.868145Z",
     "start_time": "2019-11-02T08:41:58.863283Z"
    }
   },
   "outputs": [],
   "source": [
    "import numpy as np\n",
    "x = np.arange(0, 4*np.pi, 0.1)   # start,stop,step\n",
    "y = np.sin(x)"
   ]
  },
  {
   "cell_type": "code",
   "execution_count": null,
   "metadata": {
    "ExecuteTime": {
     "end_time": "2019-11-02T08:42:14.554696Z",
     "start_time": "2019-11-02T08:42:14.548231Z"
    }
   },
   "outputs": [],
   "source": [
    "x, np.pi"
   ]
  },
  {
   "cell_type": "code",
   "execution_count": null,
   "metadata": {
    "ExecuteTime": {
     "end_time": "2019-11-02T08:42:21.160902Z",
     "start_time": "2019-11-02T08:42:21.019461Z"
    }
   },
   "outputs": [],
   "source": [
    "plt.plot(y)"
   ]
  },
  {
   "cell_type": "code",
   "execution_count": null,
   "metadata": {
    "ExecuteTime": {
     "end_time": "2019-11-02T08:42:25.714284Z",
     "start_time": "2019-11-02T08:42:25.573698Z"
    }
   },
   "outputs": [],
   "source": [
    "plt.plot(x,y)"
   ]
  },
  {
   "cell_type": "code",
   "execution_count": null,
   "metadata": {
    "ExecuteTime": {
     "end_time": "2019-11-02T08:42:25.744247Z",
     "start_time": "2019-11-02T08:42:25.741562Z"
    }
   },
   "outputs": [],
   "source": [
    "z = np.cos(x)"
   ]
  },
  {
   "cell_type": "code",
   "execution_count": null,
   "metadata": {
    "ExecuteTime": {
     "end_time": "2019-11-02T08:42:33.447614Z",
     "start_time": "2019-11-02T08:42:33.279711Z"
    }
   },
   "outputs": [],
   "source": [
    "plt.plot(x,y,z)"
   ]
  },
  {
   "cell_type": "code",
   "execution_count": null,
   "metadata": {
    "ExecuteTime": {
     "end_time": "2019-11-02T08:42:42.092896Z",
     "start_time": "2019-11-02T08:42:41.965977Z"
    }
   },
   "outputs": [],
   "source": [
    "plt.plot(x,y,z)\n",
    "plt.show()"
   ]
  },
  {
   "cell_type": "markdown",
   "metadata": {},
   "source": [
    "Почему так?"
   ]
  },
  {
   "cell_type": "code",
   "execution_count": null,
   "metadata": {
    "ExecuteTime": {
     "end_time": "2019-11-02T08:42:44.436858Z",
     "start_time": "2019-11-02T08:42:44.285679Z"
    }
   },
   "outputs": [],
   "source": [
    "plt.plot(x,y,x,z)\n",
    "plt.show()"
   ]
  },
  {
   "cell_type": "code",
   "execution_count": null,
   "metadata": {
    "ExecuteTime": {
     "end_time": "2019-11-02T08:42:44.603014Z",
     "start_time": "2019-11-02T08:42:44.473945Z"
    }
   },
   "outputs": [],
   "source": [
    "plt.plot(range(len(y)),y,z)\n",
    "plt.show()"
   ]
  },
  {
   "cell_type": "code",
   "execution_count": null,
   "metadata": {
    "ExecuteTime": {
     "end_time": "2019-11-02T08:43:02.337889Z",
     "start_time": "2019-11-02T08:43:02.190860Z"
    }
   },
   "outputs": [],
   "source": [
    "a = [0]*len(y)\n",
    "plt.plot(y)\n",
    "plt.plot(z)\n",
    "plt.plot(a)"
   ]
  },
  {
   "cell_type": "code",
   "execution_count": null,
   "metadata": {
    "ExecuteTime": {
     "end_time": "2019-11-02T08:43:08.740298Z",
     "start_time": "2019-11-02T08:43:08.575682Z"
    }
   },
   "outputs": [],
   "source": [
    "plt.plot(y)\n",
    "plt.plot(z)\n",
    "plt.plot(a)\n",
    "plt.xlabel('x values from 0 to 4pi')   # string must be enclosed with quotes '  '\n",
    "plt.ylabel('sin(x) and cos(x)')\n",
    "plt.title('Plot of sin and cos from 0 to 4pi')\n",
    "plt.legend(['sin(x)', 'cos(x)', 'zero line'])        # legend entries as seperate strings in a list\n",
    "plt.show()"
   ]
  },
  {
   "cell_type": "code",
   "execution_count": null,
   "metadata": {
    "ExecuteTime": {
     "end_time": "2019-11-02T08:43:10.672539Z",
     "start_time": "2019-11-02T08:43:10.528267Z"
    }
   },
   "outputs": [],
   "source": [
    "plt.plot(y,z)"
   ]
  },
  {
   "cell_type": "code",
   "execution_count": null,
   "metadata": {
    "ExecuteTime": {
     "end_time": "2019-11-02T08:43:12.940727Z",
     "start_time": "2019-11-02T08:43:12.805957Z"
    }
   },
   "outputs": [],
   "source": [
    "plt.figure(figsize=(5,5))\n",
    "plt.plot(y,z)\n",
    "plt.show()"
   ]
  }
 ],
 "metadata": {
  "kernelspec": {
   "display_name": "Python 2",
   "language": "python",
   "name": "python2"
  },
  "language_info": {
   "codemirror_mode": {
    "name": "ipython",
    "version": 3
   },
   "file_extension": ".py",
   "mimetype": "text/x-python",
   "name": "python",
   "nbconvert_exporter": "python",
   "pygments_lexer": "ipython3",
   "version": "3.6.8"
  },
  "toc": {
   "base_numbering": 1,
   "nav_menu": {},
   "number_sections": true,
   "sideBar": true,
   "skip_h1_title": false,
   "title_cell": "Table of Contents",
   "title_sidebar": "Contents",
   "toc_cell": false,
   "toc_position": {},
   "toc_section_display": true,
   "toc_window_display": false
  },
  "varInspector": {
   "cols": {
    "lenName": 16,
    "lenType": 16,
    "lenVar": 40
   },
   "kernels_config": {
    "python": {
     "delete_cmd_postfix": "",
     "delete_cmd_prefix": "del ",
     "library": "var_list.py",
     "varRefreshCmd": "print(var_dic_list())"
    },
    "r": {
     "delete_cmd_postfix": ") ",
     "delete_cmd_prefix": "rm(",
     "library": "var_list.r",
     "varRefreshCmd": "cat(var_dic_list()) "
    }
   },
   "types_to_exclude": [
    "module",
    "function",
    "builtin_function_or_method",
    "instance",
    "_Feature"
   ],
   "window_display": false
  }
 },
 "nbformat": 4,
 "nbformat_minor": 1
}

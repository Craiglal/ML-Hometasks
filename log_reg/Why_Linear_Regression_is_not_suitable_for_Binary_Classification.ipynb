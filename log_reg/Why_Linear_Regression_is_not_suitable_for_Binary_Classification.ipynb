{
 "cells": [
  {
   "cell_type": "code",
   "execution_count": null,
   "metadata": {
    "ExecuteTime": {
     "end_time": "2019-11-09T07:52:50.132440Z",
     "start_time": "2019-11-09T07:52:49.601165Z"
    },
    "colab": {},
    "colab_type": "code",
    "id": "BD4yBpjEXrNC"
   },
   "outputs": [],
   "source": [
    "import numpy as np\n",
    "import pandas as pd\n",
    "import matplotlib.pyplot as plt\n",
    "\n",
    "from sklearn.linear_model import LinearRegression\n",
    "lin_regression = LinearRegression()\n",
    "\n",
    "from sklearn.linear_model import LogisticRegression\n",
    "log_regression = LogisticRegression(solver='lbfgs')\n",
    "\n",
    "from sklearn.metrics import mean_squared_error, r2_score"
   ]
  },
  {
   "cell_type": "code",
   "execution_count": null,
   "metadata": {
    "ExecuteTime": {
     "end_time": "2019-11-09T07:52:53.985614Z",
     "start_time": "2019-11-09T07:52:53.982831Z"
    },
    "colab": {},
    "colab_type": "code",
    "id": "CWxky-k4c5uu"
   },
   "outputs": [],
   "source": [
    "x = np.array([i for i in range(10,30)])\n",
    "y = np.concatenate([np.ones(10), np.zeros(10)])"
   ]
  },
  {
   "cell_type": "code",
   "execution_count": null,
   "metadata": {
    "ExecuteTime": {
     "end_time": "2019-11-09T07:52:55.754985Z",
     "start_time": "2019-11-09T07:52:55.579971Z"
    },
    "colab": {
     "base_uri": "https://localhost:8080/",
     "height": 337
    },
    "colab_type": "code",
    "id": "y-BSll46c700",
    "outputId": "a1282007-4848-4dfe-8fa8-c15ca7eca56d"
   },
   "outputs": [],
   "source": [
    "fig = plt.figure(figsize=(10,5))\n",
    "xlabel = 'Age'\n",
    "ylabel = 'Purchased'\n",
    "plt.xlabel(xlabel)\n",
    "plt.ylabel(ylabel)\n",
    "plt.grid(color='k', linestyle=':', linewidth=1)\n",
    "_ = plt.plot(x, y, 'xb')"
   ]
  },
  {
   "cell_type": "code",
   "execution_count": null,
   "metadata": {
    "ExecuteTime": {
     "end_time": "2019-11-09T07:52:58.602651Z",
     "start_time": "2019-11-09T07:52:58.421456Z"
    },
    "colab": {
     "base_uri": "https://localhost:8080/",
     "height": 337
    },
    "colab_type": "code",
    "id": "TskNBkklAvXJ",
    "outputId": "21ec3ace-2a50-478c-ecfc-0a269d26f075"
   },
   "outputs": [],
   "source": [
    "_ = lin_regression.fit(pd.DataFrame(x), y)\n",
    "\n",
    "lin_y_pred_1 = lin_regression.predict(pd.DataFrame(x))\n",
    "\n",
    "line_point_5 = x * 0 + .5\n",
    "\n",
    "fig = plt.figure(figsize=(10,5))\n",
    "xlabel = 'Age'\n",
    "ylabel = 'Purchased'\n",
    "plt.xlabel(xlabel)\n",
    "plt.ylabel(ylabel)\n",
    "plt.grid(color='k', linestyle=':', linewidth=1)\n",
    "plt.plot(x, y, 'xb')\n",
    "plt.plot(x, lin_y_pred_1, '-r')\n",
    "_ = plt.plot(x, line_point_5,'-g')"
   ]
  },
  {
   "cell_type": "code",
   "execution_count": null,
   "metadata": {
    "ExecuteTime": {
     "end_time": "2019-11-09T07:53:03.002385Z",
     "start_time": "2019-11-09T07:53:02.996792Z"
    },
    "colab": {
     "base_uri": "https://localhost:8080/",
     "height": 34
    },
    "colab_type": "code",
    "id": "RrwZCOUEgOyL",
    "outputId": "af80bc31-a8b5-469f-c570-a744cc6193b1"
   },
   "outputs": [],
   "source": [
    "test_x = np.array([i for i in range(10,35,5)])\n",
    "test_y_pred = lin_regression.predict(pd.DataFrame(test_x))\n",
    "test_y_pred"
   ]
  },
  {
   "cell_type": "code",
   "execution_count": null,
   "metadata": {
    "ExecuteTime": {
     "end_time": "2019-11-09T07:53:04.374612Z",
     "start_time": "2019-11-09T07:53:04.202936Z"
    },
    "colab": {
     "base_uri": "https://localhost:8080/",
     "height": 337
    },
    "colab_type": "code",
    "id": "pFxPzPGdic5W",
    "outputId": "020c5d72-3fd6-48e9-c549-b59f33fa0c5e"
   },
   "outputs": [],
   "source": [
    "_ = log_regression.fit(pd.DataFrame(x), y)\n",
    "\n",
    "y_pred = log_regression.predict_proba(pd.DataFrame(x))\n",
    "log_y_pred_1 = [item[1] for item in y_pred]\n",
    "\n",
    "fig = plt.figure(figsize=(10,5))\n",
    "xlabel = 'Age'\n",
    "ylabel = 'Purchased'\n",
    "plt.xlabel(xlabel)\n",
    "plt.ylabel(ylabel)\n",
    "plt.grid(color='k', linestyle=':', linewidth=1)\n",
    "plt.plot(x, y, 'xb')\n",
    "plt.plot(x, log_y_pred_1, '-r')\n",
    "_ = plt.plot(x, line_point_5,'-g')"
   ]
  },
  {
   "cell_type": "code",
   "execution_count": null,
   "metadata": {
    "colab": {
     "base_uri": "https://localhost:8080/",
     "height": 85
    },
    "colab_type": "code",
    "id": "Mtl71g4TkKtb",
    "outputId": "042d1800-73ec-482d-bd58-14e163c96ab8"
   },
   "outputs": [],
   "source": [
    "print(\"Linear regression R2: \", r2_score(y, lin_y_pred_1))\n",
    "print(\"Logistic regression R2: \", r2_score(y, log_y_pred_1))\n",
    "print(\"Linear regression RMSE: \", mean_squared_error(y, lin_y_pred_1))\n",
    "print(\"Logistic regression RMSE: \", mean_squared_error(y, log_y_pred_1))"
   ]
  },
  {
   "cell_type": "code",
   "execution_count": null,
   "metadata": {
    "colab": {},
    "colab_type": "code",
    "id": "8zWmCFxJmlMN"
   },
   "outputs": [],
   "source": [
    "x = np.append(x, np.array([i for i in range(60,70)]))\n",
    "y = np.append(y, np.zeros(10))"
   ]
  },
  {
   "cell_type": "code",
   "execution_count": null,
   "metadata": {
    "colab": {
     "base_uri": "https://localhost:8080/",
     "height": 337
    },
    "colab_type": "code",
    "id": "IJgNwuDxIvr-",
    "outputId": "ab901083-d2c6-47d0-f8cc-75351e297e90"
   },
   "outputs": [],
   "source": [
    "_ = lin_regression.fit(pd.DataFrame(x), y)\n",
    "\n",
    "lin_y_pred_2 = lin_regression.predict(pd.DataFrame(x))\n",
    "\n",
    "line_point_5 = x * 0 + .5\n",
    "\n",
    "fig = plt.figure(figsize=(10,5))\n",
    "xlabel = 'Age'\n",
    "ylabel = 'Purchased'\n",
    "plt.xlabel(xlabel)\n",
    "plt.ylabel(ylabel)\n",
    "plt.grid(color='k', linestyle=':', linewidth=1)\n",
    "plt.plot(x, y, 'xb')\n",
    "plt.plot(x, lin_y_pred_2, '-r')\n",
    "_ = plt.plot(x, line_point_5,'-g')"
   ]
  },
  {
   "cell_type": "code",
   "execution_count": null,
   "metadata": {
    "colab": {
     "base_uri": "https://localhost:8080/",
     "height": 51
    },
    "colab_type": "code",
    "id": "HwSIDTN5o46i",
    "outputId": "46be54c1-c20b-4864-91f8-76d9d45f1b94"
   },
   "outputs": [],
   "source": [
    "test_x = np.array([i for i in range(18,26)])\n",
    "test_y_pred = lin_regression.predict(pd.DataFrame(test_x))\n",
    "test_y_pred"
   ]
  },
  {
   "cell_type": "code",
   "execution_count": null,
   "metadata": {
    "colab": {
     "base_uri": "https://localhost:8080/",
     "height": 337
    },
    "colab_type": "code",
    "id": "pau8vT80Napq",
    "outputId": "1103b227-4d5b-48cb-c19f-34ba34b1215e"
   },
   "outputs": [],
   "source": [
    "_ = log_regression.fit(pd.DataFrame(x), y)\n",
    "\n",
    "y_pred = log_regression.predict_proba(pd.DataFrame(x))\n",
    "log_y_pred_2 = [item[1] for item in y_pred]\n",
    "\n",
    "fig = plt.figure(figsize=(10,5))\n",
    "xlabel = 'Age'\n",
    "ylabel = 'Purchased'\n",
    "plt.xlabel(xlabel)\n",
    "plt.ylabel(ylabel)\n",
    "plt.grid(color='k', linestyle=':', linewidth=1)\n",
    "plt.plot(x, y, 'xb')\n",
    "plt.plot(x, log_y_pred_2, '-r')\n",
    "_ = plt.plot(x, line_point_5,'-g')"
   ]
  },
  {
   "cell_type": "code",
   "execution_count": null,
   "metadata": {
    "colab": {
     "base_uri": "https://localhost:8080/",
     "height": 337
    },
    "colab_type": "code",
    "id": "uKD-z7e7xKRV",
    "outputId": "075858e7-aeb7-4827-e61f-a895e4ac502d"
   },
   "outputs": [],
   "source": [
    "fig = plt.figure(figsize=(10,5))\n",
    "xlabel = 'Age'\n",
    "ylabel = 'Purchased'\n",
    "plt.xlabel(xlabel)\n",
    "plt.ylabel(ylabel)\n",
    "plt.grid(color='k', linestyle=':', linewidth=1)\n",
    "plt.plot(x, y, 'xb')\n",
    "plt.plot(x, lin_y_pred_2, '-r')\n",
    "plt.plot(x, log_y_pred_2, '-r')\n",
    "_ = plt.plot(x, line_point_5,'-g')"
   ]
  },
  {
   "cell_type": "code",
   "execution_count": null,
   "metadata": {
    "colab": {
     "base_uri": "https://localhost:8080/",
     "height": 153
    },
    "colab_type": "code",
    "id": "JTnHOp5Qp5t5",
    "outputId": "eb5e5cf6-8c67-4be6-fd91-361d1b014369"
   },
   "outputs": [],
   "source": [
    "test_y_pred = log_regression.predict_proba(pd.DataFrame(test_x))\n",
    "test_y_pred"
   ]
  },
  {
   "cell_type": "code",
   "execution_count": null,
   "metadata": {
    "colab": {
     "base_uri": "https://localhost:8080/",
     "height": 85
    },
    "colab_type": "code",
    "id": "1hY-vemTnV_D",
    "outputId": "0d561d1c-0b5a-425a-fcde-52374f6205be"
   },
   "outputs": [],
   "source": [
    "print(\"Linear regression R2: \", r2_score(y, lin_y_pred_2))\n",
    "print(\"Logistic regression R2: \", r2_score(y, log_y_pred_2))\n",
    "print(\"Linear regression RMSE: \", mean_squared_error(y, lin_y_pred_2))\n",
    "print(\"Logistic regression RMSE: \", mean_squared_error(y, log_y_pred_2))"
   ]
  }
 ],
 "metadata": {
  "colab": {
   "name": "Why Linear Regression is not suitable for Binary Classification",
   "provenance": [],
   "version": "0.3.2"
  },
  "kernelspec": {
   "display_name": "Python 3",
   "language": "python",
   "name": "python3"
  },
  "language_info": {
   "codemirror_mode": {
    "name": "ipython",
    "version": 3
   },
   "file_extension": ".py",
   "mimetype": "text/x-python",
   "name": "python",
   "nbconvert_exporter": "python",
   "pygments_lexer": "ipython3",
   "version": "3.7.3"
  },
  "toc": {
   "base_numbering": 1,
   "nav_menu": {},
   "number_sections": true,
   "sideBar": true,
   "skip_h1_title": false,
   "title_cell": "Table of Contents",
   "title_sidebar": "Contents",
   "toc_cell": false,
   "toc_position": {},
   "toc_section_display": true,
   "toc_window_display": false
  },
  "varInspector": {
   "cols": {
    "lenName": 16,
    "lenType": 16,
    "lenVar": 40
   },
   "kernels_config": {
    "python": {
     "delete_cmd_postfix": "",
     "delete_cmd_prefix": "del ",
     "library": "var_list.py",
     "varRefreshCmd": "print(var_dic_list())"
    },
    "r": {
     "delete_cmd_postfix": ") ",
     "delete_cmd_prefix": "rm(",
     "library": "var_list.r",
     "varRefreshCmd": "cat(var_dic_list()) "
    }
   },
   "types_to_exclude": [
    "module",
    "function",
    "builtin_function_or_method",
    "instance",
    "_Feature"
   ],
   "window_display": false
  }
 },
 "nbformat": 4,
 "nbformat_minor": 1
}

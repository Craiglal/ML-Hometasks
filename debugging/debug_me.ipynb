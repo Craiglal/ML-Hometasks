{
 "cells": [
  {
   "cell_type": "code",
   "execution_count": null,
   "metadata": {
    "ExecuteTime": {
     "end_time": "2019-11-08T21:45:25.243362Z",
     "start_time": "2019-11-08T21:45:25.224536Z"
    }
   },
   "outputs": [
    {
     "name": "stdout",
     "output_type": "stream",
     "text": [
      "> \u001b[1;32m<ipython-input-3-ba9abfe844f0>\u001b[0m(8)\u001b[0;36mfunctionB\u001b[1;34m()\u001b[0m\n",
      "\u001b[1;32m      7 \u001b[1;33m    \u001b[0mipdb\u001b[0m\u001b[1;33m.\u001b[0m\u001b[0mset_trace\u001b[0m\u001b[1;33m(\u001b[0m\u001b[1;33m)\u001b[0m\u001b[1;33m\u001b[0m\u001b[1;33m\u001b[0m\u001b[0m\n",
      "\u001b[0m\u001b[1;32m----> 8 \u001b[1;33m    \u001b[0mresponse\u001b[0m \u001b[1;33m=\u001b[0m \u001b[0mfuncA\u001b[0m\u001b[1;33m(\u001b[0m\u001b[0mfirst_val\u001b[0m\u001b[1;33m,\u001b[0m \u001b[0mlast_vale\u001b[0m\u001b[1;33m)\u001b[0m\u001b[1;33m\u001b[0m\u001b[1;33m\u001b[0m\u001b[0m\n",
      "\u001b[0m\u001b[1;32m      9 \u001b[1;33m    \u001b[0mresult\u001b[0m \u001b[1;33m=\u001b[0m \u001b[0mresponse\u001b[0m \u001b[1;33m*\u001b[0m \u001b[0mfirst_val\u001b[0m \u001b[1;33m/\u001b[0m \u001b[1;36m7\u001b[0m\u001b[1;33m\u001b[0m\u001b[1;33m\u001b[0m\u001b[0m\n",
      "\u001b[0m\n",
      "ipdb> ll\n",
      "\u001b[0;32m      5 \u001b[0m\u001b[1;32mdef\u001b[0m \u001b[0mfunctionB\u001b[0m\u001b[1;33m(\u001b[0m\u001b[0mfirst_val\u001b[0m\u001b[1;33m=\u001b[0m\u001b[1;36m23\u001b[0m\u001b[1;33m,\u001b[0m \u001b[0mlast_val\u001b[0m\u001b[1;33m=\u001b[0m\u001b[1;36m72\u001b[0m\u001b[1;33m)\u001b[0m\u001b[1;33m:\u001b[0m\u001b[1;33m\u001b[0m\u001b[1;33m\u001b[0m\u001b[0m\n",
      "\u001b[0;32m      6 \u001b[0m    \u001b[1;32mimport\u001b[0m \u001b[0mipdb\u001b[0m\u001b[1;33m\u001b[0m\u001b[1;33m\u001b[0m\u001b[0m\n",
      "\u001b[0;32m      7 \u001b[0m    \u001b[0mipdb\u001b[0m\u001b[1;33m.\u001b[0m\u001b[0mset_trace\u001b[0m\u001b[1;33m(\u001b[0m\u001b[1;33m)\u001b[0m\u001b[1;33m\u001b[0m\u001b[1;33m\u001b[0m\u001b[0m\n",
      "\u001b[1;32m----> 8 \u001b[1;33m    \u001b[0mresponse\u001b[0m \u001b[1;33m=\u001b[0m \u001b[0mfuncA\u001b[0m\u001b[1;33m(\u001b[0m\u001b[0mfirst_val\u001b[0m\u001b[1;33m,\u001b[0m \u001b[0mlast_vale\u001b[0m\u001b[1;33m)\u001b[0m\u001b[1;33m\u001b[0m\u001b[1;33m\u001b[0m\u001b[0m\n",
      "\u001b[0m\u001b[0;32m      9 \u001b[0m    \u001b[0mresult\u001b[0m \u001b[1;33m=\u001b[0m \u001b[0mresponse\u001b[0m \u001b[1;33m*\u001b[0m \u001b[0mfirst_val\u001b[0m \u001b[1;33m/\u001b[0m \u001b[1;36m7\u001b[0m\u001b[1;33m\u001b[0m\u001b[1;33m\u001b[0m\u001b[0m\n",
      "\u001b[0;32m     10 \u001b[0m    \u001b[1;32mreturn\u001b[0m \u001b[0mresult\u001b[0m\u001b[1;33m\u001b[0m\u001b[1;33m\u001b[0m\u001b[0m\n",
      "\u001b[0;32m     11 \u001b[0m\u001b[1;33m\u001b[0m\u001b[0m\n",
      "\n",
      "ipdb> ll\n",
      "\u001b[0;32m      5 \u001b[0m\u001b[1;32mdef\u001b[0m \u001b[0mfunctionB\u001b[0m\u001b[1;33m(\u001b[0m\u001b[0mfirst_val\u001b[0m\u001b[1;33m=\u001b[0m\u001b[1;36m23\u001b[0m\u001b[1;33m,\u001b[0m \u001b[0mlast_val\u001b[0m\u001b[1;33m=\u001b[0m\u001b[1;36m72\u001b[0m\u001b[1;33m)\u001b[0m\u001b[1;33m:\u001b[0m\u001b[1;33m\u001b[0m\u001b[1;33m\u001b[0m\u001b[0m\n",
      "\u001b[0;32m      6 \u001b[0m    \u001b[1;32mimport\u001b[0m \u001b[0mipdb\u001b[0m\u001b[1;33m\u001b[0m\u001b[1;33m\u001b[0m\u001b[0m\n",
      "\u001b[0;32m      7 \u001b[0m    \u001b[0mipdb\u001b[0m\u001b[1;33m.\u001b[0m\u001b[0mset_trace\u001b[0m\u001b[1;33m(\u001b[0m\u001b[1;33m)\u001b[0m\u001b[1;33m\u001b[0m\u001b[1;33m\u001b[0m\u001b[0m\n",
      "\u001b[1;32m----> 8 \u001b[1;33m    \u001b[0mresponse\u001b[0m \u001b[1;33m=\u001b[0m \u001b[0mfuncA\u001b[0m\u001b[1;33m(\u001b[0m\u001b[0mfirst_val\u001b[0m\u001b[1;33m,\u001b[0m \u001b[0mlast_vale\u001b[0m\u001b[1;33m)\u001b[0m\u001b[1;33m\u001b[0m\u001b[1;33m\u001b[0m\u001b[0m\n",
      "\u001b[0m\u001b[0;32m      9 \u001b[0m    \u001b[0mresult\u001b[0m \u001b[1;33m=\u001b[0m \u001b[0mresponse\u001b[0m \u001b[1;33m*\u001b[0m \u001b[0mfirst_val\u001b[0m \u001b[1;33m/\u001b[0m \u001b[1;36m7\u001b[0m\u001b[1;33m\u001b[0m\u001b[1;33m\u001b[0m\u001b[0m\n",
      "\u001b[0;32m     10 \u001b[0m    \u001b[1;32mreturn\u001b[0m \u001b[0mresult\u001b[0m\u001b[1;33m\u001b[0m\u001b[1;33m\u001b[0m\u001b[0m\n",
      "\u001b[0;32m     11 \u001b[0m\u001b[1;33m\u001b[0m\u001b[0m\n",
      "\n"
     ]
    }
   ],
   "source": [
    "def funcA(first_val, second_val, div_val=4):\n",
    "    result = (first_val*2) - (second_val/sin(div_val))\n",
    "    return result\n",
    "\n",
    "def functionB(first_val=23, last_val=72):\n",
    "    import ipdb\n",
    "    ipdb.set_trace()\n",
    "    response = funcA(first_val, last_vale)\n",
    "    result = response * first_val / 7\n",
    "    return result\n",
    "    \n",
    "functionB(33,88) # we are evaluating the funciton."
   ]
  },
  {
   "cell_type": "code",
   "execution_count": 2,
   "metadata": {},
   "outputs": [
    {
     "name": "stdout",
     "output_type": "stream",
     "text": [
      "Collecting ipdb\n",
      "  Downloading https://files.pythonhosted.org/packages/df/78/3d0d7253dc85549db182cbe4b43b30c506c84008fcd39898122c9b6306a9/ipdb-0.12.2.tar.gz\n",
      "Requirement already satisfied: setuptools in c:\\users\\aslee\\appdata\\local\\continuum\\anaconda3\\lib\\site-packages (from ipdb) (41.4.0)\n",
      "Requirement already satisfied: ipython>=5.1.0 in c:\\users\\aslee\\appdata\\local\\continuum\\anaconda3\\lib\\site-packages (from ipdb) (7.8.0)\n",
      "Requirement already satisfied: pygments in c:\\users\\aslee\\appdata\\local\\continuum\\anaconda3\\lib\\site-packages (from ipython>=5.1.0->ipdb) (2.4.2)\n",
      "Requirement already satisfied: decorator in c:\\users\\aslee\\appdata\\local\\continuum\\anaconda3\\lib\\site-packages (from ipython>=5.1.0->ipdb) (4.4.0)\n",
      "Requirement already satisfied: pickleshare in c:\\users\\aslee\\appdata\\local\\continuum\\anaconda3\\lib\\site-packages (from ipython>=5.1.0->ipdb) (0.7.5)\n",
      "Requirement already satisfied: colorama; sys_platform == \"win32\" in c:\\users\\aslee\\appdata\\local\\continuum\\anaconda3\\lib\\site-packages (from ipython>=5.1.0->ipdb) (0.4.1)\n",
      "Requirement already satisfied: prompt-toolkit<2.1.0,>=2.0.0 in c:\\users\\aslee\\appdata\\local\\continuum\\anaconda3\\lib\\site-packages (from ipython>=5.1.0->ipdb) (2.0.10)\n",
      "Requirement already satisfied: jedi>=0.10 in c:\\users\\aslee\\appdata\\local\\continuum\\anaconda3\\lib\\site-packages (from ipython>=5.1.0->ipdb) (0.15.1)\n",
      "Requirement already satisfied: traitlets>=4.2 in c:\\users\\aslee\\appdata\\local\\continuum\\anaconda3\\lib\\site-packages (from ipython>=5.1.0->ipdb) (4.3.3)\n",
      "Requirement already satisfied: backcall in c:\\users\\aslee\\appdata\\local\\continuum\\anaconda3\\lib\\site-packages (from ipython>=5.1.0->ipdb) (0.1.0)\n",
      "Requirement already satisfied: six>=1.9.0 in c:\\users\\aslee\\appdata\\local\\continuum\\anaconda3\\lib\\site-packages (from prompt-toolkit<2.1.0,>=2.0.0->ipython>=5.1.0->ipdb) (1.12.0)\n",
      "Requirement already satisfied: wcwidth in c:\\users\\aslee\\appdata\\local\\continuum\\anaconda3\\lib\\site-packages (from prompt-toolkit<2.1.0,>=2.0.0->ipython>=5.1.0->ipdb) (0.1.7)\n",
      "Requirement already satisfied: parso>=0.5.0 in c:\\users\\aslee\\appdata\\local\\continuum\\anaconda3\\lib\\site-packages (from jedi>=0.10->ipython>=5.1.0->ipdb) (0.5.1)\n",
      "Requirement already satisfied: ipython-genutils in c:\\users\\aslee\\appdata\\local\\continuum\\anaconda3\\lib\\site-packages (from traitlets>=4.2->ipython>=5.1.0->ipdb) (0.2.0)\n",
      "Building wheels for collected packages: ipdb\n",
      "  Building wheel for ipdb (setup.py): started\n",
      "  Building wheel for ipdb (setup.py): finished with status 'done'\n",
      "  Created wheel for ipdb: filename=ipdb-0.12.2-cp37-none-any.whl size=9176 sha256=783cc6b7f22e3150a7f8817668ec2b133ad74b06898fe4bb796887d6fbd22c79\n",
      "  Stored in directory: C:\\Users\\aslee\\AppData\\Local\\pip\\Cache\\wheels\\7a\\00\\07\\c906eaf1b90367fbb81bd840e56bf8859dbd3efe3838c0b4ba\n",
      "Successfully built ipdb\n",
      "Installing collected packages: ipdb\n",
      "Successfully installed ipdb-0.12.2\n"
     ]
    }
   ],
   "source": [
    "!pip install ipdb"
   ]
  },
  {
   "cell_type": "code",
   "execution_count": null,
   "metadata": {},
   "outputs": [],
   "source": []
  }
 ],
 "metadata": {
  "kernelspec": {
   "display_name": "Python 3",
   "language": "python",
   "name": "python3"
  },
  "language_info": {
   "codemirror_mode": {
    "name": "ipython",
    "version": 3
   },
   "file_extension": ".py",
   "mimetype": "text/x-python",
   "name": "python",
   "nbconvert_exporter": "python",
   "pygments_lexer": "ipython3",
   "version": "3.7.4"
  },
  "toc": {
   "base_numbering": 1,
   "nav_menu": {},
   "number_sections": true,
   "sideBar": true,
   "skip_h1_title": false,
   "title_cell": "Table of Contents",
   "title_sidebar": "Contents",
   "toc_cell": false,
   "toc_position": {},
   "toc_section_display": true,
   "toc_window_display": false
  },
  "varInspector": {
   "cols": {
    "lenName": 16,
    "lenType": 16,
    "lenVar": 40
   },
   "kernels_config": {
    "python": {
     "delete_cmd_postfix": "",
     "delete_cmd_prefix": "del ",
     "library": "var_list.py",
     "varRefreshCmd": "print(var_dic_list())"
    },
    "r": {
     "delete_cmd_postfix": ") ",
     "delete_cmd_prefix": "rm(",
     "library": "var_list.r",
     "varRefreshCmd": "cat(var_dic_list()) "
    }
   },
   "types_to_exclude": [
    "module",
    "function",
    "builtin_function_or_method",
    "instance",
    "_Feature"
   ],
   "window_display": false
  }
 },
 "nbformat": 4,
 "nbformat_minor": 2
}
